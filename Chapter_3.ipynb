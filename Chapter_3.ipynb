{
  "nbformat": 4,
  "nbformat_minor": 0,
  "metadata": {
    "colab": {
      "name": "Chapter 3.ipynb",
      "version": "0.3.2",
      "provenance": [],
      "toc_visible": true
    },
    "kernelspec": {
      "name": "python3",
      "display_name": "Python 3"
    }
  },
  "cells": [
    {
      "cell_type": "markdown",
      "metadata": {
        "id": "YkupW2biEL4C",
        "colab_type": "text"
      },
      "source": [
        "# Data Preprocessing"
      ]
    },
    {
      "cell_type": "markdown",
      "metadata": {
        "id": "ApJaAd5KERSe",
        "colab_type": "text"
      },
      "source": [
        "We need to ensure our data is clean and to do this we can preprocess the data. We are going to use Colaboratory to load, clean and normalize the numerical data. We will then split the dataset into two sets, namely the training dataset and testing datasetset. The clean data is then stored in the data folder and the name of the two datasets we will require are in that folder namely: train.csv and test.csv."
      ]
    },
    {
      "cell_type": "markdown",
      "metadata": {
        "id": "iebOPjQlSoaZ",
        "colab_type": "text"
      },
      "source": [
        "**Import the libraries**"
      ]
    },
    {
      "cell_type": "code",
      "metadata": {
        "id": "TTpZXrChSoNi",
        "colab_type": "code",
        "colab": {}
      },
      "source": [
        "import numpy as np\n",
        "import pandas as pd\n",
        "import tensorflow as tf\n",
        "import os\n",
        "import matplotlib.pyplot as plt\n",
        "import seaborn; seaborn.set()\n",
        "import seaborn as sns; seaborn.set()"
      ],
      "execution_count": 0,
      "outputs": []
    },
    {
      "cell_type": "markdown",
      "metadata": {
        "id": "f7PNrU9vTb1n",
        "colab_type": "text"
      },
      "source": [
        "**Import the data**"
      ]
    },
    {
      "cell_type": "code",
      "metadata": {
        "id": "zAHdA6jTTbho",
        "colab_type": "code",
        "colab": {}
      },
      "source": [
        "raw_data = pd.read_csv('googleplaystore.csv')"
      ],
      "execution_count": 0,
      "outputs": []
    },
    {
      "cell_type": "markdown",
      "metadata": {
        "id": "uBSUstGiTnHW",
        "colab_type": "text"
      },
      "source": [
        "**Data Wrangling**"
      ]
    },
    {
      "cell_type": "code",
      "metadata": {
        "id": "CvUphwa6TraA",
        "colab_type": "code",
        "colab": {}
      },
      "source": [
        "#Copy the data to Dataframe\n",
        "df = raw_data.copy()\n",
        "\n",
        "#Drop Duplicates\n",
        "df.drop_duplicates(subset='App', inplace=True)\n",
        "df = df[df['Android Ver'] != np.nan]\n",
        "df = df[df['Android Ver'] != 'NaN']\n",
        "df = df[df['Installs'] != 'Free']\n",
        "df = df[df['Installs'] != 'Paid']\n",
        "df_dropped_duplicates = df"
      ],
      "execution_count": 0,
      "outputs": []
    },
    {
      "cell_type": "code",
      "metadata": {
        "id": "3oq1R8cIUNxC",
        "colab_type": "code",
        "outputId": "4384ed07-9d4c-4dcb-da8d-ab5f2f46af1e",
        "colab": {
          "base_uri": "https://localhost:8080/",
          "height": 363
        }
      },
      "source": [
        "df_dropped_duplicates.head()"
      ],
      "execution_count": 0,
      "outputs": [
        {
          "output_type": "execute_result",
          "data": {
            "text/html": [
              "<div>\n",
              "<style scoped>\n",
              "    .dataframe tbody tr th:only-of-type {\n",
              "        vertical-align: middle;\n",
              "    }\n",
              "\n",
              "    .dataframe tbody tr th {\n",
              "        vertical-align: top;\n",
              "    }\n",
              "\n",
              "    .dataframe thead th {\n",
              "        text-align: right;\n",
              "    }\n",
              "</style>\n",
              "<table border=\"1\" class=\"dataframe\">\n",
              "  <thead>\n",
              "    <tr style=\"text-align: right;\">\n",
              "      <th></th>\n",
              "      <th>App</th>\n",
              "      <th>Category</th>\n",
              "      <th>Rating</th>\n",
              "      <th>Reviews</th>\n",
              "      <th>Size</th>\n",
              "      <th>Installs</th>\n",
              "      <th>Type</th>\n",
              "      <th>Price</th>\n",
              "      <th>Content Rating</th>\n",
              "      <th>Genres</th>\n",
              "      <th>Last Updated</th>\n",
              "      <th>Current Ver</th>\n",
              "      <th>Android Ver</th>\n",
              "    </tr>\n",
              "  </thead>\n",
              "  <tbody>\n",
              "    <tr>\n",
              "      <th>0</th>\n",
              "      <td>Photo Editor &amp; Candy Camera &amp; Grid &amp; ScrapBook</td>\n",
              "      <td>ART_AND_DESIGN</td>\n",
              "      <td>4.1</td>\n",
              "      <td>159</td>\n",
              "      <td>19M</td>\n",
              "      <td>10,000+</td>\n",
              "      <td>Free</td>\n",
              "      <td>0</td>\n",
              "      <td>Everyone</td>\n",
              "      <td>Art &amp; Design</td>\n",
              "      <td>January 7, 2018</td>\n",
              "      <td>1.0.0</td>\n",
              "      <td>4.0.3 and up</td>\n",
              "    </tr>\n",
              "    <tr>\n",
              "      <th>1</th>\n",
              "      <td>Coloring book moana</td>\n",
              "      <td>ART_AND_DESIGN</td>\n",
              "      <td>3.9</td>\n",
              "      <td>967</td>\n",
              "      <td>14M</td>\n",
              "      <td>500,000+</td>\n",
              "      <td>Free</td>\n",
              "      <td>0</td>\n",
              "      <td>Everyone</td>\n",
              "      <td>Art &amp; Design;Pretend Play</td>\n",
              "      <td>January 15, 2018</td>\n",
              "      <td>2.0.0</td>\n",
              "      <td>4.0.3 and up</td>\n",
              "    </tr>\n",
              "    <tr>\n",
              "      <th>2</th>\n",
              "      <td>U Launcher Lite – FREE Live Cool Themes, Hide ...</td>\n",
              "      <td>ART_AND_DESIGN</td>\n",
              "      <td>4.7</td>\n",
              "      <td>87510</td>\n",
              "      <td>8.7M</td>\n",
              "      <td>5,000,000+</td>\n",
              "      <td>Free</td>\n",
              "      <td>0</td>\n",
              "      <td>Everyone</td>\n",
              "      <td>Art &amp; Design</td>\n",
              "      <td>August 1, 2018</td>\n",
              "      <td>1.2.4</td>\n",
              "      <td>4.0.3 and up</td>\n",
              "    </tr>\n",
              "    <tr>\n",
              "      <th>3</th>\n",
              "      <td>Sketch - Draw &amp; Paint</td>\n",
              "      <td>ART_AND_DESIGN</td>\n",
              "      <td>4.5</td>\n",
              "      <td>215644</td>\n",
              "      <td>25M</td>\n",
              "      <td>50,000,000+</td>\n",
              "      <td>Free</td>\n",
              "      <td>0</td>\n",
              "      <td>Teen</td>\n",
              "      <td>Art &amp; Design</td>\n",
              "      <td>June 8, 2018</td>\n",
              "      <td>Varies with device</td>\n",
              "      <td>4.2 and up</td>\n",
              "    </tr>\n",
              "    <tr>\n",
              "      <th>4</th>\n",
              "      <td>Pixel Draw - Number Art Coloring Book</td>\n",
              "      <td>ART_AND_DESIGN</td>\n",
              "      <td>4.3</td>\n",
              "      <td>967</td>\n",
              "      <td>2.8M</td>\n",
              "      <td>100,000+</td>\n",
              "      <td>Free</td>\n",
              "      <td>0</td>\n",
              "      <td>Everyone</td>\n",
              "      <td>Art &amp; Design;Creativity</td>\n",
              "      <td>June 20, 2018</td>\n",
              "      <td>1.1</td>\n",
              "      <td>4.4 and up</td>\n",
              "    </tr>\n",
              "  </tbody>\n",
              "</table>\n",
              "</div>"
            ],
            "text/plain": [
              "                                                 App  ...   Android Ver\n",
              "0     Photo Editor & Candy Camera & Grid & ScrapBook  ...  4.0.3 and up\n",
              "1                                Coloring book moana  ...  4.0.3 and up\n",
              "2  U Launcher Lite – FREE Live Cool Themes, Hide ...  ...  4.0.3 and up\n",
              "3                              Sketch - Draw & Paint  ...    4.2 and up\n",
              "4              Pixel Draw - Number Art Coloring Book  ...    4.4 and up\n",
              "\n",
              "[5 rows x 13 columns]"
            ]
          },
          "metadata": {
            "tags": []
          },
          "execution_count": 5
        }
      ]
    },
    {
      "cell_type": "markdown",
      "metadata": {
        "id": "ppYCf1pJUh5B",
        "colab_type": "text"
      },
      "source": [
        "**Convert Categorical Data to Numerics**\n",
        "\n",
        "\n",
        "1.   App Rating\n",
        "2.   App Number of Reviews\n",
        "3.   App Sizes to be in MB (Megabytes)\n",
        "4.   App Installs\n",
        "5.   App Price\n",
        "6.   Android Ver\n",
        "\n"
      ]
    },
    {
      "cell_type": "code",
      "metadata": {
        "id": "jOuo1-ouVFNW",
        "colab_type": "code",
        "colab": {}
      },
      "source": [
        "df = df_dropped_duplicates.copy()\n",
        "# Convert app rating to numeric\n",
        "df['Rating'] = pd.to_numeric(df['Rating'])\n",
        "\n",
        "# Convert app number of reviews to numeric\n",
        "df['Reviews'] = pd.to_numeric(df['Reviews'])\n",
        "\n",
        "# Convert app sizes to be in MB (megabytes)\n",
        "df.loc[df['Size'] == 'Varies with device', ['Size']]  = np.nan\n",
        "df.loc[df['Size'].str.contains('M') == True, ['Size']] = pd.to_numeric(df['Size'][df['Size'].str.contains('M') == True].str.replace('M', ''))\n",
        "# Converting Kb to MB\n",
        "df.loc[df['Size'].str.contains('k') == True, ['Size']] = pd.to_numeric(df['Size'][df['Size'].str.contains('k') == True].str.replace('k', '')) / 10 ** 3\n",
        "df['Size'] = pd.to_numeric(df['Size'])\n",
        "\n",
        "#Convert number of app installs to numeric\n",
        "df['Installs'] = df['Installs'].str.replace(',', '')\n",
        "df['Installs'] = df['Installs'].str.replace('+', '')\n",
        "df['Installs'] = pd.to_numeric(df['Installs'])\n",
        "\n",
        "# Convert app price to numeric\n",
        "df['Price'] = df['Price'].str.replace('$', '')\n",
        "df['Price'] = pd.to_numeric(df['Price'])\n",
        "\n",
        "# Get from supported android version as numeric\n",
        "df.loc[df['Android Ver'] == 'Varies with device', ['Android Ver']]  = np.nan\n",
        "df.loc[df['Android Ver'].str.contains('.') == True, ['Android Ver']] = df['Android Ver'][df['Android Ver'].str.contains('.') == True].str.split('.').str[0]\n",
        "df['Android_Ver'] = pd.to_numeric(df['Android Ver'])\n",
        "df.pop('Android Ver')\n",
        "df['Android_Ver'] = df['Android_Ver'].astype(str)"
      ],
      "execution_count": 0,
      "outputs": []
    },
    {
      "cell_type": "markdown",
      "metadata": {
        "id": "AGJehA-m7eJN",
        "colab_type": "text"
      },
      "source": [
        "**Convert the Ratings**"
      ]
    },
    {
      "cell_type": "code",
      "metadata": {
        "id": "RS8obFLg7nYy",
        "colab_type": "code",
        "outputId": "9142a834-90de-4c30-f980-744495f71d29",
        "colab": {
          "base_uri": "https://localhost:8080/",
          "height": 284
        }
      },
      "source": [
        "data = df.copy()\n",
        "data = data.dropna()\n",
        "\n",
        "data['Content_Rating'] = data['Content Rating']\n",
        "data.pop('Content Rating')\n",
        "\n",
        "data.loc[data['Rating'].astype(float) < 3.5, ['Rating']] = 0\n",
        "data.loc[data['Rating'].astype(float) >= 3.5, ['Rating']] = 1\n",
        "data['Rating'] = data['Rating'].astype('int64')\n",
        "data.describe()"
      ],
      "execution_count": 0,
      "outputs": [
        {
          "output_type": "execute_result",
          "data": {
            "text/html": [
              "<div>\n",
              "<style scoped>\n",
              "    .dataframe tbody tr th:only-of-type {\n",
              "        vertical-align: middle;\n",
              "    }\n",
              "\n",
              "    .dataframe tbody tr th {\n",
              "        vertical-align: top;\n",
              "    }\n",
              "\n",
              "    .dataframe thead th {\n",
              "        text-align: right;\n",
              "    }\n",
              "</style>\n",
              "<table border=\"1\" class=\"dataframe\">\n",
              "  <thead>\n",
              "    <tr style=\"text-align: right;\">\n",
              "      <th></th>\n",
              "      <th>Rating</th>\n",
              "      <th>Reviews</th>\n",
              "      <th>Size</th>\n",
              "      <th>Installs</th>\n",
              "      <th>Price</th>\n",
              "    </tr>\n",
              "  </thead>\n",
              "  <tbody>\n",
              "    <tr>\n",
              "      <th>count</th>\n",
              "      <td>7023.000000</td>\n",
              "      <td>7.023000e+03</td>\n",
              "      <td>7023.000000</td>\n",
              "      <td>7.023000e+03</td>\n",
              "      <td>7023.000000</td>\n",
              "    </tr>\n",
              "    <tr>\n",
              "      <th>mean</th>\n",
              "      <td>0.904457</td>\n",
              "      <td>1.448548e+05</td>\n",
              "      <td>21.763199</td>\n",
              "      <td>4.470532e+06</td>\n",
              "      <td>1.174099</td>\n",
              "    </tr>\n",
              "    <tr>\n",
              "      <th>std</th>\n",
              "      <td>0.293985</td>\n",
              "      <td>1.024285e+06</td>\n",
              "      <td>22.729633</td>\n",
              "      <td>2.714532e+07</td>\n",
              "      <td>18.202768</td>\n",
              "    </tr>\n",
              "    <tr>\n",
              "      <th>min</th>\n",
              "      <td>0.000000</td>\n",
              "      <td>1.000000e+00</td>\n",
              "      <td>0.008500</td>\n",
              "      <td>1.000000e+00</td>\n",
              "      <td>0.000000</td>\n",
              "    </tr>\n",
              "    <tr>\n",
              "      <th>25%</th>\n",
              "      <td>1.000000</td>\n",
              "      <td>8.400000e+01</td>\n",
              "      <td>4.900000</td>\n",
              "      <td>1.000000e+04</td>\n",
              "      <td>0.000000</td>\n",
              "    </tr>\n",
              "    <tr>\n",
              "      <th>50%</th>\n",
              "      <td>1.000000</td>\n",
              "      <td>1.545000e+03</td>\n",
              "      <td>13.000000</td>\n",
              "      <td>1.000000e+05</td>\n",
              "      <td>0.000000</td>\n",
              "    </tr>\n",
              "    <tr>\n",
              "      <th>75%</th>\n",
              "      <td>1.000000</td>\n",
              "      <td>2.657950e+04</td>\n",
              "      <td>31.000000</td>\n",
              "      <td>1.000000e+06</td>\n",
              "      <td>0.000000</td>\n",
              "    </tr>\n",
              "    <tr>\n",
              "      <th>max</th>\n",
              "      <td>1.000000</td>\n",
              "      <td>4.489172e+07</td>\n",
              "      <td>100.000000</td>\n",
              "      <td>1.000000e+09</td>\n",
              "      <td>400.000000</td>\n",
              "    </tr>\n",
              "  </tbody>\n",
              "</table>\n",
              "</div>"
            ],
            "text/plain": [
              "            Rating       Reviews         Size      Installs        Price\n",
              "count  7023.000000  7.023000e+03  7023.000000  7.023000e+03  7023.000000\n",
              "mean      0.904457  1.448548e+05    21.763199  4.470532e+06     1.174099\n",
              "std       0.293985  1.024285e+06    22.729633  2.714532e+07    18.202768\n",
              "min       0.000000  1.000000e+00     0.008500  1.000000e+00     0.000000\n",
              "25%       1.000000  8.400000e+01     4.900000  1.000000e+04     0.000000\n",
              "50%       1.000000  1.545000e+03    13.000000  1.000000e+05     0.000000\n",
              "75%       1.000000  2.657950e+04    31.000000  1.000000e+06     0.000000\n",
              "max       1.000000  4.489172e+07   100.000000  1.000000e+09   400.000000"
            ]
          },
          "metadata": {
            "tags": []
          },
          "execution_count": 8
        }
      ]
    },
    {
      "cell_type": "markdown",
      "metadata": {
        "id": "oDBlUUn48KGh",
        "colab_type": "text"
      },
      "source": [
        "**Normalize the Data**"
      ]
    },
    {
      "cell_type": "code",
      "metadata": {
        "id": "9CMl2m1x8OO1",
        "colab_type": "code",
        "colab": {}
      },
      "source": [
        "from scipy import stats\n",
        "\n",
        "def normalize_boxcox(data):\n",
        "  # Copy the strictly positive data to posdata\n",
        "  posdata = data[data > 0]\n",
        "  \n",
        "  # Find the optimal Box-Cox transformation, and verify that λ is positive\n",
        "  bcdata, lam = stats.boxcox(posdata)\n",
        "  \n",
        "  x = np.empty_like(data)\n",
        "  x[data > 0] = bcdata\n",
        "  x[data == 0] = -1/lam\n",
        "  return x"
      ],
      "execution_count": 0,
      "outputs": []
    },
    {
      "cell_type": "markdown",
      "metadata": {
        "colab_type": "text",
        "id": "B8nNmC8g8iDC"
      },
      "source": [
        "**Plot our Data**"
      ]
    },
    {
      "cell_type": "code",
      "metadata": {
        "id": "jJAj2JIS8itE",
        "colab_type": "code",
        "outputId": "2c0ade03-b027-496f-edc9-9a8747bf6090",
        "colab": {
          "base_uri": "https://localhost:8080/",
          "height": 754
        }
      },
      "source": [
        "df_normalized = data.copy()\n",
        "\n",
        "cols = [\n",
        "  'Reviews',\n",
        "  'Size',\n",
        "  'Installs',\n",
        "  'Price',\n",
        "]\n",
        "i = 1\n",
        "plt.figure(figsize=(15,8))\n",
        "for col in cols:\n",
        "  df_normalized[col] = normalize_boxcox(df_normalized[col].values)\n",
        "\n",
        "  # plot both together to compare\n",
        "  ax = plt.subplot(6, 2, i)\n",
        "  ax.figure.set_size_inches(14,15)\n",
        "  \n",
        "  sns.distplot(data[col], ax=ax)\n",
        "  ax.set_title(col + \" - Original Data\")\n",
        "  \n",
        "  i += 1\n",
        "  ax = plt.subplot(6, 2, i)\n",
        "  sns.distplot(df_normalized[col], ax=ax)\n",
        "  ax.set_title(col + \" - Normalized data\")\n",
        "  i += 1\n",
        "\n",
        "plt.tight_layout()\n",
        "plt.show()"
      ],
      "execution_count": 0,
      "outputs": [
        {
          "output_type": "display_data",
          "data": {
            "image/png": "[encoded data removed]",
            "text/plain": [
              "<Figure size 1008x1080 with 8 Axes>"
            ]
          },
          "metadata": {
            "tags": []
          }
        }
      ]
    },
    {
      "cell_type": "markdown",
      "metadata": {
        "id": "kf182STj82IE",
        "colab_type": "text"
      },
      "source": [
        "**Split the data into training set and test set**"
      ]
    },
    {
      "cell_type": "code",
      "metadata": {
        "id": "pgQJL8Wa81qr",
        "colab_type": "code",
        "colab": {}
      },
      "source": [
        "from sklearn.model_selection import train_test_split\n",
        "\n",
        "train, test = train_test_split(df_normalized, random_state=0, test_size=0.3)\n",
        "train.to_csv('train.csv',index=False)\n",
        "test.to_csv('test.csv',index=False)"
      ],
      "execution_count": 0,
      "outputs": []
    }
  ]
}